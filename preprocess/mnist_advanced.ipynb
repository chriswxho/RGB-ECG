{
 "cells": [
  {
   "cell_type": "markdown",
   "metadata": {},
   "source": [
    "# Advanced Keras Tutorial\n",
    "This tutorial introduces:\n",
    "\n",
    "1) Using the GPU\n",
    "\n",
    "2) Data generators in Keras.\n",
    "\n",
    "3) Functional API for complex models.\n",
    " \n"
   ]
  },
  {
   "cell_type": "code",
   "execution_count": 1,
   "metadata": {},
   "outputs": [
    {
     "name": "stderr",
     "output_type": "stream",
     "text": [
      "/Users/Amin/anaconda2/envs/python3/lib/python3.5/importlib/_bootstrap.py:222: RuntimeWarning: compiletime version 3.6 of module 'tensorflow.python.framework.fast_tensor_util' does not match runtime version 3.5\n",
      "  return f(*args, **kwds)\n",
      "/Users/Amin/anaconda2/envs/python3/lib/python3.5/site-packages/h5py/__init__.py:34: FutureWarning: Conversion of the second argument of issubdtype from `float` to `np.floating` is deprecated. In future, it will be treated as `np.float64 == np.dtype(float).type`.\n",
      "  from ._conv import register_converters as _register_converters\n",
      "Using TensorFlow backend.\n"
     ]
    }
   ],
   "source": [
    "import numpy as np\n",
    "import numpy.random\n",
    "import matplotlib.pyplot as plt\n",
    "%matplotlib inline\n",
    "\n",
    "\n",
    "# Tensorflow will grab the memory on all the system gpus unless you tell it not to. \n",
    "# Here we tell TF to not use any GPUs.\n",
    "import os\n",
    "gpuid = 0 # An index of which gpu to use. \n",
    "os.environ['KERAS_BACKEND'] = 'tensorflow'\n",
    "os.environ['CUDA_VISIBLE_DEVICES'] = \"{}\".format(gpuid) # (Empty) List of gpu indices that TF can see.\n",
    "\n",
    "\n",
    "import tensorflow as tf\n",
    "CONFIG = tf.ConfigProto(device_count = {'GPU': 1}, allow_soft_placement=False, log_device_placement=False) # Only use a single GPU.\n",
    "#allow_soft_placement:\n",
    "#Whether soft placement is allowed. If allow_soft_placement is true, an op will be placed on CPU if\n",
    "#1. there's no GPU implementation for the OP\n",
    "#or\n",
    "#2. no GPU devices are known or registered\n",
    "#or\n",
    "#3. need to co-locate with reftype input(s) which are from CPU.\n",
    "#example would be:\n",
    "#with tf.device('/gpu:0'):\n",
    "\n",
    "#log_device_placement:\n",
    "#Whether device placements should be logged.\n",
    "#You can see where each operation is mapped to.\n",
    "\n",
    "CONFIG.gpu_options.allow_growth = True # Prevents tf from grabbing all gpu memory.\n",
    "#If true, the allocator does not pre-allocate the entire specified\n",
    "#GPU memory region, instead starting small and growing as needed.\n",
    "\n",
    "\n",
    "sess = tf.Session(config=CONFIG)\n",
    "from keras import backend as K\n",
    "K.set_session(sess)\n",
    "\n",
    "\n",
    "#import theano\n",
    "import keras\n",
    "from keras.datasets import mnist\n",
    "from keras.models import Model\n",
    "from keras.layers import Dense, Dropout, Activation, Input, Convolution2D, Flatten, merge\n",
    "from keras.utils import np_utils\n",
    "from keras.optimizers import SGD, Adam"
   ]
  },
  {
   "cell_type": "markdown",
   "metadata": {},
   "source": [
    "## Define data generators for training and validation."
   ]
  },
  {
   "cell_type": "code",
   "execution_count": 2,
   "metadata": {
    "collapsed": true
   },
   "outputs": [],
   "source": [
    "# The following function is used to serve up both train and validation data.\n",
    "def data_generator(X, Y, batchsize):\n",
    "    nb_classes = 10\n",
    "    N = X.shape[0]\n",
    "    while True:\n",
    "        indices1 = np.random.randint(low=0, high=N, size=(batchsize,))\n",
    "        indices2 = np.random.randint(low=0, high=N, size=(batchsize,))\n",
    "        \n",
    "        X1 = X[indices1,...].astype('float32') / 255.0\n",
    "        X2 = X[indices2,...].astype('float32') / 255.0\n",
    "        Y1 = Y[indices1]\n",
    "        Y2 = Y[indices2]\n",
    "        T  = (Y1 + Y2) # Sum of values.\n",
    "        \n",
    "        X1 = np.expand_dims(X1, axis=1) # For conv with theano, shape=(batchsize, channels, row, col).\n",
    "        X2 = np.expand_dims(X2, axis=1) # We are just adding a dummy dimension saying that there is one channel.\n",
    "        \n",
    "        Y1 = np_utils.to_categorical(Y1, nb_classes)\n",
    "        Y2 = np_utils.to_categorical(Y2, nb_classes)\n",
    "        T  = np_utils.to_categorical(T, 19) # 19 possible values.\n",
    "        \n",
    "        yield {'input1':X1 , 'input2':X2},  {'out':T, 'aux1':Y1, 'aux2':Y2}\n",
    "        \n",
    "# Load data.\n",
    "(X_train, Y_train), (X_valid, Y_valid) = mnist.load_data() # Shape = (N,28,28), (N,)\n",
    "# Create generators.\n",
    "batchsize  = 200 \n",
    "data_train = data_generator(X_train, Y_train, batchsize)\n",
    "data_valid = data_generator(X_valid, Y_valid, batchsize)"
   ]
  },
  {
   "cell_type": "code",
   "execution_count": 3,
   "metadata": {},
   "outputs": [
    {
     "data": {
      "image/png": "[encoded data removed]",
      "text/plain": [
       "<matplotlib.figure.Figure at 0xb2cd1f438>"
      ]
     },
     "metadata": {},
     "output_type": "display_data"
    }
   ],
   "source": [
    "# Plot examples of the data.\n",
    "inputs, outputs = data_train.__next__()\n",
    "Xbatch = inputs['input1']\n",
    "plt.figure(1, figsize=(12,3))\n",
    "for i in range(10):\n",
    "    plt.subplot(2,10,i+1)\n",
    "    plt.imshow(inputs['input1'][i].reshape(28,28), cmap='gray', interpolation='nearest')\n",
    "    plt.xticks([])\n",
    "    plt.yticks([])\n",
    "    plt.title('Target=%d' % np.argmax(outputs['out'][i]))\n",
    "    plt.subplot(2,10,10+i+1)\n",
    "    plt.imshow(inputs['input2'][i].reshape(28,28), cmap='gray', interpolation='nearest')\n",
    "    plt.xticks([])\n",
    "    plt.yticks([])"
   ]
  },
  {
   "cell_type": "markdown",
   "metadata": {},
   "source": [
    "# Define Keras Model with the Functional API\n",
    "\n",
    "Here we define a model that takes two random MNIST images as inputs, and tries to predict the sum of the two numbers. In the model, we can define auxiliary outputs that try to predict the values of each image individually, but the model trains to high accuracy even if we assign zero weight to the auxiliary loss functions."
   ]
  },
  {
   "cell_type": "code",
   "execution_count": 5,
   "metadata": {},
   "outputs": [
    {
     "name": "stdout",
     "output_type": "stream",
     "text": [
      "__________________________________________________________________________________________________\n",
      "Layer (type)                    Output Shape         Param #     Connected to                     \n",
      "==================================================================================================\n",
      "input1 (InputLayer)             (None, 1, 28, 28)    0                                            \n",
      "__________________________________________________________________________________________________\n",
      "input2 (InputLayer)             (None, 1, 28, 28)    0                                            \n",
      "__________________________________________________________________________________________________\n",
      "conv2d_2 (Conv2D)               (None, 1, 10, 32)    43936       input1[0][0]                     \n",
      "                                                                 input2[0][0]                     \n",
      "__________________________________________________________________________________________________\n",
      "flatten_3 (Flatten)             (None, 320)          0           conv2d_2[0][0]                   \n",
      "__________________________________________________________________________________________________\n",
      "flatten_4 (Flatten)             (None, 320)          0           conv2d_2[1][0]                   \n",
      "__________________________________________________________________________________________________\n",
      "dense_4 (Dense)                 (None, 256)          82176       flatten_3[0][0]                  \n",
      "                                                                 flatten_4[0][0]                  \n",
      "__________________________________________________________________________________________________\n",
      "concatenate_2 (Concatenate)     (None, 512)          0           dense_4[0][0]                    \n",
      "                                                                 dense_4[1][0]                    \n",
      "__________________________________________________________________________________________________\n",
      "dense_6 (Dense)                 (None, 512)          262656      concatenate_2[0][0]              \n",
      "__________________________________________________________________________________________________\n",
      "dense_5 (Dense)                 (None, 10)           2570        dense_4[0][0]                    \n",
      "                                                                 dense_4[1][0]                    \n",
      "__________________________________________________________________________________________________\n",
      "out (Dense)                     (None, 19)           9747        dense_6[0][0]                    \n",
      "__________________________________________________________________________________________________\n",
      "aux1 (Activation)               (None, 10)           0           dense_5[0][0]                    \n",
      "__________________________________________________________________________________________________\n",
      "aux2 (Activation)               (None, 10)           0           dense_5[1][0]                    \n",
      "==================================================================================================\n",
      "Total params: 401,085\n",
      "Trainable params: 138,429\n",
      "Non-trainable params: 262,656\n",
      "__________________________________________________________________________________________________\n"
     ]
    }
   ],
   "source": [
    "# Input data.\n",
    "input1   = Input(shape=(1, 28,28), dtype='float32', name='input1') # Argument 'name' must match name in dictionary.\n",
    "input2   = Input(shape=(1, 28,28), dtype='float32', name='input2')\n",
    "\n",
    "# Layer one: Single convolutional layer applied to each input independently, with \"shared weights.\"\n",
    "nb_filter      = 32     # Number of convolutional kernels.\n",
    "nb_row, nb_col = 7,7   # Convolution kernel size.\n",
    "subsample      = (3,3) # Step size for convolution kernels.\n",
    "conv  = Convolution2D(nb_filter, (nb_row, nb_col), activation='relu', padding='same', strides=subsample)\n",
    "x1    = conv(input1) # Layer object conv transforms data.\n",
    "x2    = conv(input2)\n",
    "\n",
    "# Flatten data: transform from (28,28) to (784,)\n",
    "x1 = Flatten()(x1)\n",
    "x2 = Flatten()(x2)\n",
    "\n",
    "# Layer two: Single fully-connected layer applied to each input independently, with shared weights.\n",
    "layer = Dense(256, activation='relu')\n",
    "x1 = layer(x1)\n",
    "x2 = layer(x2)\n",
    "\n",
    "# Auxiliary softmax layers try to classify digits. \n",
    "# The output of these layers aren't fed into the next layer.\n",
    "layer = Dense(10) # These weights are shared.\n",
    "aux1  = Activation(activation='softmax', name='aux1')(layer(x1)) # Output layers must be named.\n",
    "aux2  = Activation(activation='softmax', name='aux2')(layer(x2))\n",
    "\n",
    "# Merge hidden representations.\n",
    "x = keras.layers.concatenate([x1, x2])\n",
    "\n",
    "# More dense layers then output.\n",
    "x   = Dense(512, activation='relu', trainable=False)(x)\n",
    "out = Dense(19, activation='softmax', name='out')(x) # Output layers must be named.\n",
    "\n",
    "# Create model object that puts it all together.\n",
    "model = Model(inputs=[input1, input2], outputs=[out, aux1, aux2])\n",
    "model.summary()"
   ]
  },
  {
   "cell_type": "markdown",
   "metadata": {},
   "source": [
    "<img src=\"convolution.gif\" width=\"750\" align=\"center\">"
   ]
  },
  {
   "cell_type": "code",
   "execution_count": 7,
   "metadata": {
    "collapsed": true
   },
   "outputs": [],
   "source": [
    "from keras.utils import plot_model\n",
    "plot_model(model, to_file='model.png')"
   ]
  },
  {
   "cell_type": "markdown",
   "metadata": {},
   "source": [
    "<img src=\"model.png\" width=\"750\" align=\"center\">"
   ]
  },
  {
   "cell_type": "markdown",
   "metadata": {},
   "source": [
    "# Optimization"
   ]
  },
  {
   "cell_type": "markdown",
   "metadata": {},
   "source": [
    "If the model has multiple outputs, you can use a different loss on each output by passing a dictionary or a list of losses. The loss value that will be minimized by the model will then be the sum of all individual losses."
   ]
  },
  {
   "cell_type": "code",
   "execution_count": 22,
   "metadata": {
    "collapsed": true
   },
   "outputs": [],
   "source": [
    "optimizer = Adam(lr=0.001, beta_1=0.99, beta_2=0.999, epsilon=1e-08) # Optimization hyperparameters.\n",
    "\n",
    "model.compile(optimizer=optimizer,\n",
    "              loss={'out':'categorical_crossentropy',\n",
    "                    'aux1':'categorical_crossentropy',\n",
    "                    'aux2':'categorical_crossentropy'},\n",
    "              #loss_weights={'out': 1.0, 'aux1': 1.0, 'aux2':1.0}, # These can be tuned.\n",
    "              loss_weights={'out': 1.0, 'aux1': 0.0, 'aux2':0.0}, # These can be tuned.\n",
    "              metrics=['accuracy'])\n"
   ]
  },
  {
   "cell_type": "markdown",
   "metadata": {},
   "source": [
    "## Train the model."
   ]
  },
  {
   "cell_type": "markdown",
   "metadata": {},
   "source": [
    "A callback is a set of functions to be applied at given stages of the training procedure.\n",
    "You can use callbacks to get a view on internal states and statistics of the model during training.\n",
    "You can pass a list of callbacks (as the keyword argument callbacks) to the .fit() method of the Sequential or \n",
    "Model classes. The relevant methods of the callbacks will then be called at each stage of the training.\n",
    "\n",
    "Callbacks can be used to stop early, decrease learning rate, checkpoint the model, etc."
   ]
  },
  {
   "cell_type": "code",
   "execution_count": 23,
   "metadata": {},
   "outputs": [
    {
     "name": "stdout",
     "output_type": "stream",
     "text": [
      "Epoch 1/5\n",
      "100/100 [==============================] - 3s - loss: 2.4033 - out_loss: 2.4033 - aux1_loss: 2.3639 - aux2_loss: 2.3610 - out_acc: 0.1772 - aux1_acc: 0.0735 - aux2_acc: 0.0739 - val_loss: 1.9404 - val_out_loss: 1.9404 - val_aux1_loss: 2.4269 - val_aux2_loss: 2.4338 - val_out_acc: 0.3216 - val_aux1_acc: 0.0947 - val_aux2_acc: 0.0952\n",
      "Epoch 2/5\n",
      "100/100 [==============================] - 3s - loss: 1.5034 - out_loss: 1.5034 - aux1_loss: 2.5455 - aux2_loss: 2.5503 - out_acc: 0.4966 - aux1_acc: 0.0684 - aux2_acc: 0.0665 - val_loss: 1.0221 - val_out_loss: 1.0221 - val_aux1_loss: 2.8467 - val_aux2_loss: 2.8505 - val_out_acc: 0.6930 - val_aux1_acc: 0.0608 - val_aux2_acc: 0.0573\n",
      "Epoch 3/5\n",
      "100/100 [==============================] - 3s - loss: 0.7202 - out_loss: 0.7202 - aux1_loss: 2.8570 - aux2_loss: 2.8721 - out_acc: 0.7849 - aux1_acc: 0.0930 - aux2_acc: 0.0910 - val_loss: 0.5053 - val_out_loss: 0.5053 - val_aux1_loss: 2.8814 - val_aux2_loss: 2.8745 - val_out_acc: 0.8599 - val_aux1_acc: 0.1022 - val_aux2_acc: 0.0995\n",
      "Epoch 4/5\n",
      "100/100 [==============================] - 3s - loss: 0.4086 - out_loss: 0.4086 - aux1_loss: 2.8458 - aux2_loss: 2.8498 - out_acc: 0.8845 - aux1_acc: 0.1002 - aux2_acc: 0.1009 - val_loss: 0.3061 - val_out_loss: 0.3061 - val_aux1_loss: 2.8030 - val_aux2_loss: 2.8294 - val_out_acc: 0.9131 - val_aux1_acc: 0.1094 - val_aux2_acc: 0.1061\n",
      "Epoch 5/5\n",
      "100/100 [==============================] - 3s - loss: 0.2738 - out_loss: 0.2738 - aux1_loss: 2.7932 - aux2_loss: 2.8172 - out_acc: 0.9217 - aux1_acc: 0.1277 - aux2_acc: 0.1231 - val_loss: 0.2199 - val_out_loss: 0.2199 - val_aux1_loss: 2.8371 - val_aux2_loss: 2.8201 - val_out_acc: 0.9351 - val_aux1_acc: 0.1387 - val_aux2_acc: 0.1453\n"
     ]
    }
   ],
   "source": [
    "#from keras.callbacks import EarlyStopping\n",
    "#stopping  = keras.callbacks.EarlyStopping(monitor='val_loss', patience=3, verbose=0, mode='auto')\n",
    "callbacks = [stopping]\n",
    "\n",
    "# The fit_generator function loads data batches on the fly, instead of transfering entire data set to the gpu.\n",
    "history   = model.fit_generator(generator=data_train, steps_per_epoch=100, \n",
    "                              epochs=5, verbose=1,\n",
    "                              callbacks=callbacks, \n",
    "                              validation_data=data_valid, validation_steps=100)"
   ]
  },
  {
   "cell_type": "code",
   "execution_count": 24,
   "metadata": {},
   "outputs": [
    {
     "data": {
      "text/plain": [
       "<matplotlib.legend.Legend at 0x7f92b42c9b00>"
      ]
     },
     "execution_count": 24,
     "metadata": {},
     "output_type": "execute_result"
    },
    {
     "data": {
      "image/png": "[encoded data removed]",
      "text/plain": [
       "<matplotlib.figure.Figure at 0x7f92b4371da0>"
      ]
     },
     "metadata": {},
     "output_type": "display_data"
    }
   ],
   "source": [
    "# Plot loss trajectory throughout training.\n",
    "plt.figure(1, figsize=(10,5))\n",
    "plt.plot(history.history['out_acc'], label='primary')\n",
    "plt.plot(history.history['aux1_acc'], label='aux1')\n",
    "plt.plot(history.history['aux2_acc'], label='aux2')\n",
    "plt.xlabel('Epoch')\n",
    "plt.ylabel('Accuracy')\n",
    "plt.legend()"
   ]
  },
  {
   "cell_type": "markdown",
   "metadata": {},
   "source": [
    "# Post-training analysis."
   ]
  },
  {
   "cell_type": "code",
   "execution_count": 30,
   "metadata": {},
   "outputs": [
    {
     "data": {
      "image/png": "[encoded data removed]",
      "text/plain": [
       "<matplotlib.figure.Figure at 0x7f92a2f37940>"
      ]
     },
     "metadata": {},
     "output_type": "display_data"
    }
   ],
   "source": [
    "# Plot examples where the predictions were wrong.\n",
    "inputs, outputs = data_valid.__next__()\n",
    "plt.figure(1, figsize=(12,3))\n",
    "i = 0\n",
    "while i < 10:\n",
    "    inputs, outputs = data_valid.__next__()\n",
    "    predictions = model.predict(inputs)\n",
    "    j = 0\n",
    "    while j < 100:\n",
    "        yhat   = predictions[0][j].argmax(axis=-1) # predictions is list: [out, aux1, aux2]\n",
    "        y      = np.argmax(outputs['out'][j])\n",
    "        input1 = inputs['input1'][j].reshape(28,28)\n",
    "        input2 = inputs['input2'][j].reshape(28,28)\n",
    "        j += 1\n",
    "        if yhat == y:\n",
    "            continue\n",
    "        \n",
    "        plt.subplot(2,10,i+1)\n",
    "        plt.imshow(input1, cmap='gray', interpolation='nearest')\n",
    "        plt.xticks([])\n",
    "        plt.yticks([])\n",
    "        plt.title('Pred=%d' % yhat)\n",
    "        plt.title('y=%d,\\n$\\hat{y}$=%d' % (y,yhat))\n",
    "        plt.subplot(2,10,10+i+1)\n",
    "        plt.imshow(input2, cmap='gray', interpolation='nearest')\n",
    "        plt.xticks([])\n",
    "        plt.yticks([])\n",
    "        i += 1\n",
    "        if not i<10:\n",
    "            break\n",
    "        "
   ]
  }
 ],
 "metadata": {
  "anaconda-cloud": {},
  "kernelspec": {
   "display_name": "Python 3",
   "language": "python",
   "name": "python3"
  },
  "language_info": {
   "codemirror_mode": {
    "name": "ipython",
    "version": 3
   },
   "file_extension": ".py",
   "mimetype": "text/x-python",
   "name": "python",
   "nbconvert_exporter": "python",
   "pygments_lexer": "ipython3",
   "version": "3.7.7"
  }
 },
 "nbformat": 4,
 "nbformat_minor": 1
}
