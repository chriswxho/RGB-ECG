{
 "cells": [
  {
   "cell_type": "code",
   "execution_count": 1,
   "metadata": {},
   "outputs": [],
   "source": [
    "import cv2\n",
    "import glob\n",
    "import os\n",
    "import pandas as pd\n",
    "import shutil"
   ]
  },
  {
   "cell_type": "code",
   "execution_count": 2,
   "metadata": {},
   "outputs": [],
   "source": [
    "def helper(df,acctime):\n",
    "    try:\n",
    "        return df.iloc[(df['Time']-acctime).abs().argsort()[:1]]\n",
    "    except:\n",
    "        return pd.DataFrame()"
   ]
  },
  {
   "cell_type": "code",
   "execution_count": 4,
   "metadata": {},
   "outputs": [
    {
     "name": "stdout",
     "output_type": "stream",
     "text": [
      "C:\\Users\\Chris\\Documents\\projects\\cs172b\\aicure-dataset\\01_3m_r\\01_3min_rest.mov\n",
      "C:\\Users\\Chris\\Documents\\projects\\cs172b\\aicure-dataset\\01_4m_p\\01_4min_post.mov\n",
      "C:\\Users\\Chris\\Documents\\projects\\cs172b\\aicure-dataset\\01_4m_pnew\\01_4min_post_new.mov\n",
      "C:\\Users\\Chris\\Documents\\projects\\cs172b\\aicure-dataset\\01_4m_r\\01_4min_rest.mov\n",
      "C:\\Users\\Chris\\Documents\\projects\\cs172b\\aicure-dataset\\02_2m_p1\\02_2min_post.mov\n",
      "C:\\Users\\Chris\\Documents\\projects\\cs172b\\aicure-dataset\\02_2m_p2\\02_2min_post.mov\n",
      "C:\\Users\\Chris\\Documents\\projects\\cs172b\\aicure-dataset\\02_2m_r1\\02_2min_rest.mov\n",
      "C:\\Users\\Chris\\Documents\\projects\\cs172b\\aicure-dataset\\02_2m_r2\\02_2min_rest.mov\n",
      "C:\\Users\\Chris\\Documents\\projects\\cs172b\\aicure-dataset\\03_2m_p1\\03_2min_post.mov\n",
      "C:\\Users\\Chris\\Documents\\projects\\cs172b\\aicure-dataset\\03_2m_p2\\03_2min_post.mov\n",
      "C:\\Users\\Chris\\Documents\\projects\\cs172b\\aicure-dataset\\03_2m_r1\\03_4min_rest.mov\n",
      "C:\\Users\\Chris\\Documents\\projects\\cs172b\\aicure-dataset\\03_2m_r2\\03_2min_rest.mov\n",
      "C:\\Users\\Chris\\Documents\\projects\\cs172b\\aicure-dataset\\05_2m_p1\\05_2min_post.mov\n",
      "C:\\Users\\Chris\\Documents\\projects\\cs172b\\aicure-dataset\\05_2m_p2\\05_2min_post.mov\n",
      "C:\\Users\\Chris\\Documents\\projects\\cs172b\\aicure-dataset\\05_2m_r1\\05_2min_rest.mov\n",
      "C:\\Users\\Chris\\Documents\\projects\\cs172b\\aicure-dataset\\05_2m_r2\\05_2min_rest.mov\n",
      "C:\\Users\\Chris\\Documents\\projects\\cs172b\\aicure-dataset\\06_2m_p1\\06_2min_post.mov\n",
      "C:\\Users\\Chris\\Documents\\projects\\cs172b\\aicure-dataset\\06_2m_p2\\06_2min_post.mov\n",
      "C:\\Users\\Chris\\Documents\\projects\\cs172b\\aicure-dataset\\06_2m_r1\\06_2min_rest.mov\n",
      "C:\\Users\\Chris\\Documents\\projects\\cs172b\\aicure-dataset\\06_2m_r2\\06_4min_rest.mov\n",
      "C:\\Users\\Chris\\Documents\\projects\\cs172b\\aicure-dataset\\07_2m_p1\\07_2min_post.mov\n",
      "C:\\Users\\Chris\\Documents\\projects\\cs172b\\aicure-dataset\\07_2m_p2\\07_2min_post.mov\n",
      "C:\\Users\\Chris\\Documents\\projects\\cs172b\\aicure-dataset\\07_2m_r1\\07_2min_rest.mov\n",
      "C:\\Users\\Chris\\Documents\\projects\\cs172b\\aicure-dataset\\07_2m_r2\\07_2min_rest.mov\n",
      "C:\\Users\\Chris\\Documents\\projects\\cs172b\\aicure-dataset\\09_2m_p1\\09_2min_post.mov\n",
      "C:\\Users\\Chris\\Documents\\projects\\cs172b\\aicure-dataset\\09_2m_p2\\09_2min_post.mov\n",
      "C:\\Users\\Chris\\Documents\\projects\\cs172b\\aicure-dataset\\09_2m_r1\\09_2min_rest.mov\n",
      "C:\\Users\\Chris\\Documents\\projects\\cs172b\\aicure-dataset\\09_2m_r2\\09_2min_rest.mov\n",
      "C:\\Users\\Chris\\Documents\\projects\\cs172b\\aicure-dataset\\10_2m_p1\\10_2min_post.mov\n",
      "C:\\Users\\Chris\\Documents\\projects\\cs172b\\aicure-dataset\\10_2m_p2\\10_2min_post.mov\n",
      "C:\\Users\\Chris\\Documents\\projects\\cs172b\\aicure-dataset\\10_2m_r1\\10_2min_rest.mov\n",
      "C:\\Users\\Chris\\Documents\\projects\\cs172b\\aicure-dataset\\10_2m_r2\\10_2min_rest.mov\n",
      "C:\\Users\\Chris\\Documents\\projects\\cs172b\\aicure-dataset\\11_4m_p\\11_4min_post.mov\n",
      "C:\\Users\\Chris\\Documents\\projects\\cs172b\\aicure-dataset\\11_4m_r\\11_4min_rest.mov\n",
      "C:\\Users\\Chris\\Documents\\projects\\cs172b\\aicure-dataset\\12_2m_r1\\12_2min_rest.mov\n",
      "C:\\Users\\Chris\\Documents\\projects\\cs172b\\aicure-dataset\\12_2m_r2\\12_2min_rest.mov\n",
      "C:\\Users\\Chris\\Documents\\projects\\cs172b\\aicure-dataset\\12_4m_p\\12_4min_post.mov\n",
      "C:\\Users\\Chris\\Documents\\projects\\cs172b\\aicure-dataset\\13_4m_p\\13_4min_post.mov\n",
      "C:\\Users\\Chris\\Documents\\projects\\cs172b\\aicure-dataset\\13_4m_r\\13_4min_rest.mov\n",
      "C:\\Users\\Chris\\Documents\\projects\\cs172b\\aicure-dataset\\14_4m_p\\14_4min_post.mov\n",
      "C:\\Users\\Chris\\Documents\\projects\\cs172b\\aicure-dataset\\14_4m_r\\14_4min_rest.mov\n",
      "C:\\Users\\Chris\\Documents\\projects\\cs172b\\aicure-dataset\\15_4m_p\\15_4min_post.mov\n",
      "C:\\Users\\Chris\\Documents\\projects\\cs172b\\aicure-dataset\\15_4m_r\\15_4min_rest.mov\n",
      "C:\\Users\\Chris\\Documents\\projects\\cs172b\\aicure-dataset\\16_4m_p\\16_4min_post.mov\n",
      "C:\\Users\\Chris\\Documents\\projects\\cs172b\\aicure-dataset\\16_4m_r\\16_4min_rest.mov\n",
      "C:\\Users\\Chris\\Documents\\projects\\cs172b\\aicure-dataset\\18_4m_p\\18_4min_post.mov\n",
      "C:\\Users\\Chris\\Documents\\projects\\cs172b\\aicure-dataset\\18_4m_r\\18_4min_rest.mov\n",
      "C:\\Users\\Chris\\Documents\\projects\\cs172b\\aicure-dataset\\20_4m_p\\20_4min_post.mov\n",
      "C:\\Users\\Chris\\Documents\\projects\\cs172b\\aicure-dataset\\20_4m_r\\20_4min_rest.mov\n",
      "C:\\Users\\Chris\\Documents\\projects\\cs172b\\aicure-dataset\\21_4m_p\\21_4min_post.mov\n",
      "C:\\Users\\Chris\\Documents\\projects\\cs172b\\aicure-dataset\\21_4m_r\\21_4min_rest.mov\n",
      "C:\\Users\\Chris\\Documents\\projects\\cs172b\\aicure-dataset\\24_4m_p\\24_4min_post.mov\n",
      "C:\\Users\\Chris\\Documents\\projects\\cs172b\\aicure-dataset\\24_4m_r\\24_4min_rest.mov\n",
      "C:\\Users\\Chris\\Documents\\projects\\cs172b\\aicure-dataset\\26_4m_p\\26_4min_post.mov\n",
      "C:\\Users\\Chris\\Documents\\projects\\cs172b\\aicure-dataset\\26_4m_r\\26_4min_rest.mov\n",
      "C:\\Users\\Chris\\Documents\\projects\\cs172b\\aicure-dataset\\27_4m_p\\27_4min_post.mov\n",
      "C:\\Users\\Chris\\Documents\\projects\\cs172b\\aicure-dataset\\27_4m_r\\27_4min_rest.mov\n",
      "C:\\Users\\Chris\\Documents\\projects\\cs172b\\aicure-dataset\\28_4m_p\\28_4min_post.mov\n",
      "C:\\Users\\Chris\\Documents\\projects\\cs172b\\aicure-dataset\\28_4m_r\\28_4min_rest.mov\n",
      "C:\\Users\\Chris\\Documents\\projects\\cs172b\\aicure-dataset\\29_4m_p\\29_4min_post.mov\n",
      "C:\\Users\\Chris\\Documents\\projects\\cs172b\\aicure-dataset\\29_4m_r\\29_4min_rest.mov\n"
     ]
    }
   ],
   "source": [
    "logfile = open('failures.txt','w')\n",
    "dataset_path=r'C:\\Users\\Chris\\Documents\\projects\\cs172b\\aicure-dataset'\n",
    "frames=glob.glob('{0}/*/*frames'.format(dataset_path))\n",
    "for folder in frames:\n",
    "    shutil.rmtree(folder)\n",
    "movs=glob.glob('{0}/**/*.mov'.format(dataset_path))\n",
    "\n",
    "for mov in movs:\n",
    "    print (mov)\n",
    "    vidcap= cv2.VideoCapture(mov)\n",
    "    try:\n",
    "        df=pd.read_csv(mov.split('.')[0]+'.csv')\n",
    "    except:\n",
    "        logfile.write('Failure on %s'%mov)\n",
    "        logfile.flush()\n",
    "    success,image=vidcap.read()\n",
    "    count=0\n",
    "    #print(mov)\n",
    "    dest,tail=os.path.split(mov)\n",
    "    #print(dest)\n",
    "    #print(tail)\n",
    "    dest=os.path.join(dest,tail.split('.')[0]+'_frames')\n",
    "    #print(dest)\n",
    "    if not os.path.exists(dest):\n",
    "        os.mkdir(dest)\n",
    "    if not success:\n",
    "        print('Failure on', mov)\n",
    "        continue\n",
    "    while success:\n",
    "        acctime=count/12/60\n",
    "        try:\n",
    "            tempdf=df.iloc[(df['Time']-acctime).abs().argsort()[:1]]\n",
    "        except:\n",
    "            tempdf=pd.DataFrame()\n",
    "        if tempdf.empty:\n",
    "            cv2.imwrite(os.path.join(dest,tail.split('.')[0]+'_%s.jpg'%count),image)\n",
    "        else:\n",
    "            #print(os.path.join(dest,tail.split('.')[0]+'_%s_%s_.jpg'%(float(tempdf.iloc[0]['ECG']),count)))\n",
    "            cv2.imwrite(os.path.join(dest,tail.split('.')[0]+'_%s_%s_.jpg'%(tempdf.iloc[0]['ECG'],count)),image)\n",
    "\n",
    "        success,image=vidcap.read()\n",
    "        count+=1\n"
   ]
  },
  {
   "cell_type": "code",
   "execution_count": 2,
   "metadata": {
    "scrolled": false
   },
   "outputs": [],
   "source": [
    "dataset_path=r'C:\\Users\\Chris\\Documents\\projects\\cs172b\\aicure-dataset'\n",
    "import numpy as np\n",
    "npys = glob.glob('{0}/*/*.npy'.format(dataset_path))\n",
    "\n",
    "# it = iter(npys)\n",
    "# for npy_path in it:\n",
    "#     npy1 = np.load(npy_path)\n",
    "#     npy2 = np.load(next(it))\n",
    "#     if npy1.shape[0] != npy2.shape[0]:\n",
    "#         print(npy1,npy2)"
   ]
  },
  {
   "cell_type": "code",
   "execution_count": 3,
   "metadata": {},
   "outputs": [],
   "source": [
    "src = npys\n",
    "dst = r'C:\\Users\\Chris\\Documents\\projects\\cs172b\\project\\172Bproj\\npy_dataset'\n",
    "\n",
    "for fil in src:\n",
    "    shutil.copy(fil,dst)"
   ]
  }
 ],
 "metadata": {
  "kernelspec": {
   "display_name": "venv",
   "language": "python",
   "name": "venv"
  },
  "language_info": {
   "codemirror_mode": {
    "name": "ipython",
    "version": 3
   },
   "file_extension": ".py",
   "mimetype": "text/x-python",
   "name": "python",
   "nbconvert_exporter": "python",
   "pygments_lexer": "ipython3",
   "version": "3.7.7"
  }
 },
 "nbformat": 4,
 "nbformat_minor": 2
}
